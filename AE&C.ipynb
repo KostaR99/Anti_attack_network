{
  "nbformat": 4,
  "nbformat_minor": 0,
  "metadata": {
    "colab": {
      "name": "projekat.ipynb",
      "provenance": [],
      "collapsed_sections": [],
      "authorship_tag": "ABX9TyP6xOQ6+jV0GMUTTVpa/Hld",
      "include_colab_link": true
    },
    "kernelspec": {
      "name": "python3",
      "display_name": "Python 3"
    },
    "language_info": {
      "name": "python"
    },
    "accelerator": "GPU"
  },
  "cells": [
    {
      "cell_type": "markdown",
      "metadata": {
        "id": "view-in-github",
        "colab_type": "text"
      },
      "source": [
        "<a href=\"https://colab.research.google.com/github/kostarakonjac1331/AE-C-network/blob/main/AE%26C.ipynb\" target=\"_parent\"><img src=\"https://colab.research.google.com/assets/colab-badge.svg\" alt=\"Open In Colab\"/></a>"
      ]
    },
    {
      "cell_type": "markdown",
      "metadata": {
        "id": "enIRC-nwIL-g"
      },
      "source": [
        "IMPORTOVI\n"
      ]
    },
    {
      "cell_type": "code",
      "metadata": {
        "id": "A0FAEBz4Hgjv"
      },
      "source": [
        "import tensorflow as tf\n",
        "from tensorflow import keras\n",
        "from tensorflow.keras import datasets\n",
        "from tensorflow.keras.models import  Model\n",
        "from tensorflow.keras.layers import Conv2D, Conv2DTranspose,Dense,LeakyReLU,BatchNormalization,Dropout,Input,MaxPool2D,Flatten,Activation\n",
        "\n",
        "import numpy as np\n",
        "import matplotlib.pyplot as plt\n",
        "from sklearn.metrics import confusion_matrix, plot_confusion_matrix\n",
        "import itertools\n",
        "\n"
      ],
      "execution_count": null,
      "outputs": []
    },
    {
      "cell_type": "code",
      "metadata": {
        "id": "EUepoBEdTEui"
      },
      "source": [
        "physical_devices = tf.config.list_physical_devices(\"GPU\")\n",
        "tf.config.experimental.set_memory_growth(physical_devices[0], True)"
      ],
      "execution_count": null,
      "outputs": []
    },
    {
      "cell_type": "markdown",
      "metadata": {
        "id": "g_paPV9eH4Pu"
      },
      "source": [
        "KONVOLUCIONI AUTOENCODER\n"
      ]
    },
    {
      "cell_type": "code",
      "metadata": {
        "id": "BJSxHUIFISZv"
      },
      "source": [
        "class AutoEncoder(Model):\n",
        "  def __init__(self):\n",
        "    super(AutoEncoder,self).__init__()\n",
        "    #encoder mreza\n",
        "    self.encoder = keras.Sequential([\n",
        "      Input(shape=(28,28,1)),\n",
        "      Conv2D(64,kernel_size=3,strides=2,padding='same',activation='relu'),\n",
        "      Conv2D(32,kernel_size=3,strides=2,padding='same',activation='relu')\n",
        "    ])\n",
        "\n",
        "    #decoder mreza\n",
        "    self.decoder = keras.Sequential([\n",
        "      Conv2DTranspose(32,kernel_size=3,strides=2,padding='same',activation='relu'),\n",
        "      Conv2DTranspose(64,kernel_size=3,strides=2,padding='same',activation='relu'),\n",
        "      Conv2D(1,kernel_size=3,padding='same',activation='relu')\n",
        "    ])\n",
        "\n",
        "  def call(self,x):\n",
        "    encoded = self.encoder(x)\n",
        "    decoded = self.decoder(encoded)\n",
        "    return decoded\n",
        "\n",
        "\n"
      ],
      "execution_count": null,
      "outputs": []
    },
    {
      "cell_type": "markdown",
      "metadata": {
        "id": "isbHJi0tH-EE"
      },
      "source": [
        "KONVOLUCIONI KLASIFIKATOR"
      ]
    },
    {
      "cell_type": "code",
      "metadata": {
        "id": "J-gcNBFoKhow"
      },
      "source": [
        "class CNNClasificator(Model):\n",
        "  def __init__(self):\n",
        "    super(CNNClasificator,self).__init__()\n",
        "    self.cnn = keras.Sequential([\n",
        "      Conv2D(16,3,padding='same',input_shape=(28,28,1)),\n",
        "      LeakyReLU(0.2),\n",
        "      Conv2D(16,3,padding='same'),\n",
        "      LeakyReLU(0.2),\n",
        "      Dropout(0.2),\n",
        "      MaxPool2D(),\n",
        "      Conv2D(32,3,padding='same'),\n",
        "      LeakyReLU(0.2),\n",
        "      Conv2D(32,3,padding='same'),\n",
        "      LeakyReLU(0.2),\n",
        "      Conv2D(32,3,padding='same'),\n",
        "      LeakyReLU(0.2),\n",
        "      Dropout(0.3),\n",
        "      MaxPool2D(),\n",
        "      Conv2D(64,3,padding='same'),\n",
        "      LeakyReLU(0.2),\n",
        "      Conv2D(64,3,padding='same'),\n",
        "      LeakyReLU(0.2),\n",
        "      Conv2D(64,3,padding='same'),\n",
        "      LeakyReLU(0.2),\n",
        "      Dropout(0.3),\n",
        "      MaxPool2D(),\n",
        "      Conv2D(128,3,padding='same'),\n",
        "      LeakyReLU(0.2),\n",
        "      Dropout(0.4),\n",
        "      MaxPool2D(),\n",
        "      Flatten(),\n",
        "      Dense(512),\n",
        "      LeakyReLU(0.2),\n",
        "      BatchNormalization(),\n",
        "      Dense(64),\n",
        "      LeakyReLU(0.2),\n",
        "      BatchNormalization(),\n",
        "      Dropout(0.4),\n",
        "      Dense(10)\n",
        "      ])\n",
        "  def call(self,x):\n",
        "    x = self.cnn(x)\n",
        "    return x\n",
        "\n",
        "\n",
        "model = CNNClasificator()"
      ],
      "execution_count": null,
      "outputs": []
    },
    {
      "cell_type": "code",
      "metadata": {
        "id": "ThY5OJWbw73K"
      },
      "source": [
        "class AEC:\n",
        "  def __init__(self,train_data,test_data,train_labels,test_labels,noisy_train,noisy_test):\n",
        "    self.train_data = train_data\n",
        "    self.test_data = test_data\n",
        "    self.train_labels = train_labels\n",
        "    self.test_labels = test_labels\n",
        "    self.noisy_test = noisy_test\n",
        "    self.noisy_train = noisy_train\n",
        "    self.autoencoder = AutoEncoder()\n",
        "    self.clasificator = CNNClasificator()\n",
        "    self.history = None\n",
        "    self.predictions = None\n",
        "  \n",
        "\n",
        "  def trainAutoEncoder(self):\n",
        "    self.autoencoder.compile(optimizer='adam',loss=keras.losses.MeanSquaredError())\n",
        "\n",
        "    self.autoencoder.fit(self.noisy_train, self.train_data,\n",
        "                epochs=10,\n",
        "                shuffle=True,\n",
        "                validation_data=(self.noisy_test, self.test_data))\n",
        "    print(self.autoencoder.encoder.summary())\n",
        "    print(self.autoencoder.decoder.summary())\n",
        "\n",
        "    print(\"rezultat treniranja: \\n\")\n",
        "    encoded_imgs = model.autoencoder.encoder(x_test).numpy()\n",
        "    decoded_imgs = model.autoencoder.decoder(encoded_imgs).numpy()\n",
        "    n = 10\n",
        "    plt.figure(figsize=(20, 4))\n",
        "    for i in range(n):\n",
        "\n",
        "      ax = plt.subplot(2, n, i + 1)\n",
        "      plt.title(\"original\")\n",
        "      plt.imshow(tf.squeeze(x_test_noisy[i]))\n",
        "      plt.gray()\n",
        "      ax.get_xaxis().set_visible(False)\n",
        "      ax.get_yaxis().set_visible(False)\n",
        "      bx = plt.subplot(2, n, i + n + 1)\n",
        "      plt.title(\"rekonstruisana\")\n",
        "      plt.imshow(tf.squeeze(decoded_imgs[i]))\n",
        "      plt.gray()\n",
        "      bx.get_xaxis().set_visible(False)\n",
        "      bx.get_yaxis().set_visible(False)\n",
        "    plt.show()\n",
        "\n",
        "\n",
        "  def trainClasificator(self):\n",
        "    self.clasificator.compile(\n",
        "    loss=keras.losses.SparseCategoricalCrossentropy(from_logits=True),\n",
        "    optimizer=keras.optimizers.Adam(lr=3e-4),\n",
        "    metrics=[\"accuracy\"],\n",
        "    )\n",
        "    self.history = self.clasificator.fit(self.train_data, self.train_labels, batch_size=64, epochs=10, verbose=2,validation_data=(self.test_data,self.test_labels))\n",
        "    self.predictions = np.argmax(self.clasificator.predict(x=self.test_data, batch_size=64, verbose=0),axis=1)\n",
        "\n",
        "  def clasifierPredict(self,picture):\n",
        "    picture = tf.expand_dims(input=picture,axis=0)\n",
        "    predikcija = self.clasificator.predict(x=picture,batch_size=64)\n",
        "    roundPredikcija = np.argmax(predikcija)\n",
        "    return roundPredikcija\n",
        "\n",
        "  def plotAccuracy(self):\n",
        "    plt.plot(self.history.history['accuracy'], label='accuracy')\n",
        "    plt.plot(self.history.history['val_accuracy'], label = 'val_accuracy')\n",
        "    plt.xlabel('Epoch')\n",
        "    plt.ylabel('Accuracy')\n",
        "    plt.ylim([0.5, 1])\n",
        "    plt.legend(loc='lower right')\n",
        "  \n",
        "  def plotLoss(self):\n",
        "    plt.plot(self.history.history['loss'], label='loss')\n",
        "    plt.plot(self.history.history['val_loss'], label = 'val_loss')\n",
        "    plt.xlabel('Epoch')\n",
        "    plt.ylabel('Loss')\n",
        "    plt.ylim([0, 3])\n",
        "    plt.legend(loc='lower right')\n",
        "\n",
        "    test_loss, test_acc = self.clasificator.evaluate(self.test_data, self.test_labels, verbose=2)\n",
        "\n",
        "\n",
        "  def plot_confusion_matrix(self,target_names,title='Matrica konfuzije',cmap=None,normalize=True):\n",
        "    cm = confusion_matrix(y_true=self.test_labels, y_pred=self.predictions)\n",
        "    accuracy = np.trace(cm) / np.sum(cm).astype('float')\n",
        "    misclass = 1 - accuracy\n",
        "\n",
        "    if cmap is None:\n",
        "      cmap = plt.get_cmap('magma')\n",
        "\n",
        "    plt.figure(figsize=(8, 6))\n",
        "    plt.imshow(cm, interpolation='nearest', cmap=cmap)\n",
        "    plt.title(title)\n",
        "    plt.colorbar()\n",
        "\n",
        "    if target_names is not None:\n",
        "      tick_marks = np.arange(len(target_names))\n",
        "      plt.xticks(tick_marks, target_names, rotation=45)\n",
        "      plt.yticks(tick_marks, target_names)\n",
        "\n",
        "    if normalize:\n",
        "      cm = cm.astype('float') / cm.sum(axis=1)[:, np.newaxis]\n",
        "\n",
        "\n",
        "    thtest_labelsresh = cm.max() / 1.5 if normalize else cm.max() / 2\n",
        "    for i, j in itertools.product(range(cm.shape[0]), range(cm.shape[1])):\n",
        "      if normalize:\n",
        "        plt.text(j, i, \"{:0.4f}\".format(cm[i, j]),\n",
        "                horizontalalignment=\"center\",\n",
        "                color=\"red\")\n",
        "      else:\n",
        "        plt.text(j, i, \"{:,}\".format(cm[i, j]),\n",
        "                horizontalalignment=\"center\",\n",
        "                color=\"red\")\n",
        "\n",
        "\n",
        "    plt.tight_layout()\n",
        "    plt.ylabel('Tacne klase')\n",
        "    plt.xlabel('Prediktovane klase\\naccuracy={:0.4f}; misclass={:0.4f}'.format(accuracy, misclass))\n",
        "    plt.show()\n",
        "\n",
        "\n",
        "  def encodingDecoding(self,picture):\n",
        "    picture = tf.expand_dims(input = picture, axis = 0)\n",
        "    enc = self.autoencoder.encoder(picture)\n",
        "    dec = self.autoencoder.decoder(enc)\n",
        "\n",
        "    return dec\n",
        "\n",
        "    "
      ],
      "execution_count": null,
      "outputs": []
    },
    {
      "cell_type": "code",
      "metadata": {
        "id": "twvh3iyd0Bqe"
      },
      "source": [
        "(x_train, y_train), (x_test, y_test) = datasets.mnist.load_data()\n",
        "x_train = x_train.astype(\"float32\") / 255.0\n",
        "x_test = x_test.astype(\"float32\") / 255.0\n",
        "\n",
        "x_train = x_train[..., tf.newaxis]\n",
        "x_test = x_test[..., tf.newaxis]"
      ],
      "execution_count": null,
      "outputs": []
    },
    {
      "cell_type": "code",
      "metadata": {
        "id": "x_tTUQo10SKu"
      },
      "source": [
        "noise_factor = 0.2\n",
        "x_train_noisy = x_train + noise_factor * tf.random.normal(shape=x_train.shape) \n",
        "x_test_noisy = x_test + noise_factor * tf.random.normal(shape=x_test.shape) \n",
        "\n",
        "x_train_noisy = tf.clip_by_value(x_train_noisy, clip_value_min=0., clip_value_max=1.)\n",
        "x_test_noisy = tf.clip_by_value(x_test_noisy, clip_value_min=0., clip_value_max=1.)"
      ],
      "execution_count": null,
      "outputs": []
    },
    {
      "cell_type": "code",
      "metadata": {
        "id": "8ewoJxbr0jR6",
        "colab": {
          "base_uri": "https://localhost:8080/",
          "height": 1000
        },
        "outputId": "51052d7c-9ca4-4856-8ed5-9670ca2b9112"
      },
      "source": [
        "model = AEC(x_train,x_test,y_train,y_test,x_train_noisy,x_test_noisy)\n",
        "model.trainAutoEncoder()\n"
      ],
      "execution_count": null,
      "outputs": [
        {
          "output_type": "stream",
          "text": [
            "Epoch 1/10\n",
            "1875/1875 [==============================] - 11s 4ms/step - loss: 0.0106 - val_loss: 0.0029\n",
            "Epoch 2/10\n",
            "1875/1875 [==============================] - 7s 4ms/step - loss: 0.0029 - val_loss: 0.0027\n",
            "Epoch 3/10\n",
            "1875/1875 [==============================] - 7s 4ms/step - loss: 0.0027 - val_loss: 0.0027\n",
            "Epoch 4/10\n",
            "1875/1875 [==============================] - 7s 4ms/step - loss: 0.0026 - val_loss: 0.0026\n",
            "Epoch 5/10\n",
            "1875/1875 [==============================] - 7s 4ms/step - loss: 0.0026 - val_loss: 0.0025\n",
            "Epoch 6/10\n",
            "1875/1875 [==============================] - 7s 4ms/step - loss: 0.0025 - val_loss: 0.0025\n",
            "Epoch 7/10\n",
            "1875/1875 [==============================] - 7s 4ms/step - loss: 0.0025 - val_loss: 0.0025\n",
            "Epoch 8/10\n",
            "1875/1875 [==============================] - 7s 4ms/step - loss: 0.0025 - val_loss: 0.0025\n",
            "Epoch 9/10\n",
            "1875/1875 [==============================] - 7s 4ms/step - loss: 0.0025 - val_loss: 0.0024\n",
            "Epoch 10/10\n",
            "1875/1875 [==============================] - 7s 4ms/step - loss: 0.0024 - val_loss: 0.0024\n",
            "Model: \"sequential_1\"\n",
            "_________________________________________________________________\n",
            "Layer (type)                 Output Shape              Param #   \n",
            "=================================================================\n",
            "conv2d_9 (Conv2D)            (None, 14, 14, 64)        640       \n",
            "_________________________________________________________________\n",
            "conv2d_10 (Conv2D)           (None, 7, 7, 32)          18464     \n",
            "=================================================================\n",
            "Total params: 19,104\n",
            "Trainable params: 19,104\n",
            "Non-trainable params: 0\n",
            "_________________________________________________________________\n",
            "None\n",
            "Model: \"sequential_2\"\n",
            "_________________________________________________________________\n",
            "Layer (type)                 Output Shape              Param #   \n",
            "=================================================================\n",
            "conv2d_transpose (Conv2DTran (None, 14, 14, 32)        9248      \n",
            "_________________________________________________________________\n",
            "conv2d_transpose_1 (Conv2DTr (None, 28, 28, 64)        18496     \n",
            "_________________________________________________________________\n",
            "conv2d_11 (Conv2D)           (None, 28, 28, 1)         577       \n",
            "=================================================================\n",
            "Total params: 28,321\n",
            "Trainable params: 28,321\n",
            "Non-trainable params: 0\n",
            "_________________________________________________________________\n",
            "None\n",
            "rezultat treniranja: \n",
            "\n"
          ],
          "name": "stdout"
        },
        {
          "output_type": "display_data",
          "data": {
            "image/png": "[encoded data removed]",
            "text/plain": [
              "<Figure size 1440x288 with 20 Axes>"
            ]
          },
          "metadata": {
            "tags": [],
            "needs_background": "light"
          }
        }
      ]
    },
    {
      "cell_type": "code",
      "metadata": {
        "id": "l-_7ieOII2pK",
        "colab": {
          "base_uri": "https://localhost:8080/",
          "height": 282
        },
        "outputId": "4c9d5892-963c-419f-99f3-d2dd9bbd883a"
      },
      "source": [
        "dc = model.encodingDecoding(x_test[0])\n",
        "plt.imshow(tf.squeeze(dc))\n"
      ],
      "execution_count": null,
      "outputs": [
        {
          "output_type": "execute_result",
          "data": {
            "text/plain": [
              "<matplotlib.image.AxesImage at 0x7f4e7107e3d0>"
            ]
          },
          "metadata": {
            "tags": []
          },
          "execution_count": 9
        },
        {
          "output_type": "display_data",
          "data": {
            "image/png": "[encoded data removed]",
            "text/plain": [
              "<Figure size 432x288 with 1 Axes>"
            ]
          },
          "metadata": {
            "tags": [],
            "needs_background": "light"
          }
        }
      ]
    },
    {
      "cell_type": "code",
      "metadata": {
        "id": "u_LvwuJYAZrc",
        "colab": {
          "base_uri": "https://localhost:8080/"
        },
        "outputId": "81425f33-d2da-407c-8665-aed926b126e1"
      },
      "source": [
        "model.trainClasificator()"
      ],
      "execution_count": null,
      "outputs": [
        {
          "output_type": "stream",
          "text": [
            "Epoch 1/10\n",
            "938/938 - 7s - loss: 0.4520 - accuracy: 0.8597 - val_loss: 0.5500 - val_accuracy: 0.8186\n",
            "Epoch 2/10\n",
            "938/938 - 6s - loss: 0.1053 - accuracy: 0.9703 - val_loss: 0.1837 - val_accuracy: 0.9553\n",
            "Epoch 3/10\n",
            "938/938 - 6s - loss: 0.0733 - accuracy: 0.9798 - val_loss: 0.0552 - val_accuracy: 0.9872\n",
            "Epoch 4/10\n",
            "938/938 - 6s - loss: 0.0614 - accuracy: 0.9826 - val_loss: 0.0863 - val_accuracy: 0.9788\n",
            "Epoch 5/10\n",
            "938/938 - 6s - loss: 0.0510 - accuracy: 0.9852 - val_loss: 0.0402 - val_accuracy: 0.9885\n",
            "Epoch 6/10\n",
            "938/938 - 6s - loss: 0.0457 - accuracy: 0.9866 - val_loss: 0.0681 - val_accuracy: 0.9817\n",
            "Epoch 7/10\n",
            "938/938 - 6s - loss: 0.0428 - accuracy: 0.9876 - val_loss: 0.0478 - val_accuracy: 0.9884\n",
            "Epoch 8/10\n",
            "938/938 - 6s - loss: 0.0392 - accuracy: 0.9891 - val_loss: 0.0483 - val_accuracy: 0.9873\n",
            "Epoch 9/10\n",
            "938/938 - 6s - loss: 0.0359 - accuracy: 0.9896 - val_loss: 0.0576 - val_accuracy: 0.9834\n",
            "Epoch 10/10\n",
            "938/938 - 6s - loss: 0.0319 - accuracy: 0.9906 - val_loss: 0.0330 - val_accuracy: 0.9906\n"
          ],
          "name": "stdout"
        }
      ]
    },
    {
      "cell_type": "code",
      "metadata": {
        "id": "VIYmbXJPALFA",
        "colab": {
          "base_uri": "https://localhost:8080/"
        },
        "outputId": "ad89f205-4881-4b0a-9edd-c2bcacb63172"
      },
      "source": [
        "dc.shape\n",
        "a = tf.squeeze(dc)\n",
        "a = tf.expand_dims(input=a,axis = 2)\n",
        "\n",
        "pred = model.clasifierPredict(a)\n",
        "pred"
      ],
      "execution_count": null,
      "outputs": [
        {
          "output_type": "execute_result",
          "data": {
            "text/plain": [
              "7"
            ]
          },
          "metadata": {
            "tags": []
          },
          "execution_count": 11
        }
      ]
    },
    {
      "cell_type": "code",
      "metadata": {
        "id": "f_j8D_m3LY2F",
        "colab": {
          "base_uri": "https://localhost:8080/",
          "height": 467
        },
        "outputId": "82633a30-1e66-4dfe-a18e-00248724b3f5"
      },
      "source": [
        "model.plot_confusion_matrix(target_names=['0','1','2','3','4','5','6','7','8','9',], title=\"Matrica konfuzije\", normalize=False)"
      ],
      "execution_count": null,
      "outputs": [
        {
          "output_type": "display_data",
          "data": {
            "image/png": "[encoded data removed]",
            "text/plain": [
              "<Figure size 576x432 with 2 Axes>"
            ]
          },
          "metadata": {
            "tags": [],
            "needs_background": "light"
          }
        }
      ]
    },
    {
      "cell_type": "code",
      "metadata": {
        "id": "9yl4B8Q7QctA",
        "colab": {
          "base_uri": "https://localhost:8080/",
          "height": 283
        },
        "outputId": "a9b28cbe-14f7-4c24-e1c4-e413703c5647"
      },
      "source": [
        "model.plotAccuracy()"
      ],
      "execution_count": null,
      "outputs": [
        {
          "output_type": "display_data",
          "data": {
            "image/png": "[encoded data removed]",
            "text/plain": [
              "<Figure size 432x288 with 1 Axes>"
            ]
          },
          "metadata": {
            "tags": [],
            "needs_background": "light"
          }
        }
      ]
    },
    {
      "cell_type": "code",
      "metadata": {
        "id": "Ena6QpHLQf6D",
        "colab": {
          "base_uri": "https://localhost:8080/",
          "height": 300
        },
        "outputId": "d2524415-f3c5-48d0-9217-544dd1d1c589"
      },
      "source": [
        "model.plotLoss()"
      ],
      "execution_count": null,
      "outputs": [
        {
          "output_type": "stream",
          "text": [
            "313/313 - 1s - loss: 0.0330 - accuracy: 0.9906\n"
          ],
          "name": "stdout"
        },
        {
          "output_type": "display_data",
          "data": {
            "image/png": "[encoded data removed]",
            "text/plain": [
              "<Figure size 432x288 with 1 Axes>"
            ]
          },
          "metadata": {
            "tags": [],
            "needs_background": "light"
          }
        }
      ]
    }
  ]
}