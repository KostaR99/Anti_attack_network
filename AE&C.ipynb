{
  "nbformat": 4,
  "nbformat_minor": 0,
  "metadata": {
    "colab": {
      "name": "projekat.ipynb",
      "provenance": [],
      "collapsed_sections": [],
      "authorship_tag": "ABX9TyNkADed3oR6CM7gwNUBjvZM",
      "include_colab_link": true
    },
    "kernelspec": {
      "name": "python3",
      "display_name": "Python 3"
    },
    "language_info": {
      "name": "python"
    },
    "accelerator": "GPU"
  },
  "cells": [
    {
      "cell_type": "markdown",
      "metadata": {
        "id": "view-in-github",
        "colab_type": "text"
      },
      "source": [
        "<a href=\"https://colab.research.google.com/github/kostarakonjac1331/AE-C-network/blob/main/AE%26C.ipynb\" target=\"_parent\"><img src=\"https://colab.research.google.com/assets/colab-badge.svg\" alt=\"Open In Colab\"/></a>"
      ]
    },
    {
      "cell_type": "markdown",
      "metadata": {
        "id": "enIRC-nwIL-g"
      },
      "source": [
        "IMPORTOVI\n"
      ]
    },
    {
      "cell_type": "code",
      "metadata": {
        "id": "A0FAEBz4Hgjv"
      },
      "source": [
        "import tensorflow as tf\n",
        "from tensorflow import keras\n",
        "from tensorflow.keras import datasets\n",
        "from tensorflow.keras.models import  Model\n",
        "from tensorflow.keras.layers import Conv2D, Conv2DTranspose,Dense,LeakyReLU,BatchNormalization,Dropout,Input,MaxPool2D,Flatten,Activation\n",
        "\n",
        "import numpy as np\n",
        "import matplotlib.pyplot as plt\n"
      ],
      "execution_count": 1,
      "outputs": []
    },
    {
      "cell_type": "markdown",
      "metadata": {
        "id": "g_paPV9eH4Pu"
      },
      "source": [
        "KONVOLUCIONI AUTOENCODER\n"
      ]
    },
    {
      "cell_type": "code",
      "metadata": {
        "id": "BJSxHUIFISZv"
      },
      "source": [
        "class AutoEncoder(Model):\n",
        "  def __init__(self):\n",
        "    super(AutoEncoder,self).__init__()\n",
        "    #encoder mreza\n",
        "    self.encoder = keras.Sequential([\n",
        "      Input(shape=(28,28,1)),\n",
        "      Conv2D(16,kernel_size=(3,3),strides=2,padding='same',activation='relu'),\n",
        "      Conv2D(8,kernel_size=(3,3),strides=2,padding='same',activation='relu')\n",
        "    ])\n",
        "\n",
        "    #decoder mreza\n",
        "    self.decoder = keras.Sequential([\n",
        "      Conv2DTranspose(8,kernel_size=3,strides=2,padding='same',activation='relu'),\n",
        "      Conv2DTranspose(16,kernel_size=3,strides=2,padding='same',activation='relu'),\n",
        "      Conv2D(1,kernel_size=(3,3),padding='same',activation='sigmoid')\n",
        "    ])\n",
        "\n",
        "  def call(self,x):\n",
        "    encoded = self.encoder(x)\n",
        "    decoded = self.decoder(encoded)\n",
        "    return decoded\n",
        "\n",
        "\n"
      ],
      "execution_count": 2,
      "outputs": []
    },
    {
      "cell_type": "markdown",
      "metadata": {
        "id": "isbHJi0tH-EE"
      },
      "source": [
        "KONVOLUCIONI KLASIFIKATOR"
      ]
    },
    {
      "cell_type": "code",
      "metadata": {
        "id": "J-gcNBFoKhow"
      },
      "source": [
        "class CNNClasificator(Model):\n",
        "  def __init__(self):\n",
        "    super(CNNClasificator,self).__init__()\n",
        "    self.cnn = keras.Sequential([\n",
        "      Conv2D(16,3,padding='same',input_shape=(28,28,1)),\n",
        "      LeakyReLU(0.2),\n",
        "      Conv2D(16,3,padding='same'),\n",
        "      LeakyReLU(0.2),\n",
        "      Dropout(0.2),\n",
        "      MaxPool2D(),\n",
        "      Conv2D(32,3,padding='same'),\n",
        "      LeakyReLU(0.2),\n",
        "      Conv2D(32,3,padding='same'),\n",
        "      LeakyReLU(0.2),\n",
        "      Conv2D(32,3,padding='same'),\n",
        "      LeakyReLU(0.2),\n",
        "      Dropout(0.3),\n",
        "      MaxPool2D(),\n",
        "      Conv2D(64,3,padding='same'),\n",
        "      LeakyReLU(0.2),\n",
        "      Conv2D(64,3,padding='same'),\n",
        "      LeakyReLU(0.2),\n",
        "      Conv2D(64,3,padding='same'),\n",
        "      LeakyReLU(0.2),\n",
        "      Dropout(0.3),\n",
        "      MaxPool2D(),\n",
        "      Conv2D(128,3,padding='same'),\n",
        "      LeakyReLU(0.2),\n",
        "      Dropout(0.4),\n",
        "      MaxPool2D(),\n",
        "      Flatten(),\n",
        "      Dense(512),\n",
        "      LeakyReLU(0.2),\n",
        "      BatchNormalization(),\n",
        "      Dense(64),\n",
        "      LeakyReLU(0.2),\n",
        "      BatchNormalization(),\n",
        "      Dropout(0.4),\n",
        "      Dense(10)\n",
        "      ])\n",
        "  def call(self,x):\n",
        "    x = self.cnn(x)\n",
        "    return x\n",
        "\n",
        "\n",
        "model = CNNClasificator()"
      ],
      "execution_count": 3,
      "outputs": []
    },
    {
      "cell_type": "code",
      "metadata": {
        "id": "ThY5OJWbw73K"
      },
      "source": [
        "class AEC:\n",
        "  def __init__(self,train_data,test_data,train_labels,test_labels,noisy_train,noisy_test):\n",
        "    self.train_data = train_data\n",
        "    self.test_data = test_data\n",
        "    self.train_labels = train_labels\n",
        "    self.test_labels = test_labels\n",
        "    self.noisy_test = noisy_test\n",
        "    self.noisy_train = noisy_train\n",
        "    self.autoencoder = AutoEncoder()\n",
        "    self.clasificator = CNNClasificator()\n",
        "    self.history = None\n",
        "  \n",
        "\n",
        "  def trainAutoEncoder(self):\n",
        "    self.autoencoder.compile(optimizer='adam',loss=keras.losses.MeanSquaredError())\n",
        "\n",
        "    self.autoencoder.fit(self.noisy_train, self.train_data,\n",
        "                epochs=10,\n",
        "                shuffle=True,\n",
        "                validation_data=(self.noisy_test, self.test_data))\n",
        "    print(self.autoencoder.encoder.summary())\n",
        "    print(self.autoencoder.decoder.summary())\n",
        "\n",
        "\n",
        "  def trainClasificator(self):\n",
        "    self.clasificator.compile(\n",
        "    loss=keras.losses.SparseCategoricalCrossentropy(from_logits=True),\n",
        "    optimizer=keras.optimizers.Adam(lr=3e-4),\n",
        "    metrics=[\"accuracy\"],\n",
        "    )\n",
        "    self.history = self.clasificator.fit(self.train_data, self.train_labels, batch_size=64, epochs=10, verbose=2,validation_data=(self.test_data,self.test_labels))\n",
        "\n",
        "  def clasifierPredict(self,picture):\n",
        "    picture = tf.expand_dims(input=picture,axis=0)\n",
        "    predikcija = self.clasificator.predict(x=picture,batch_size=64)\n",
        "    roundPredikcija = np.argmax(predikcija)\n",
        "    return roundPredikcija\n",
        "  def encodingDecoding(self,picture):\n",
        "    picture = tf.expand_dims(input = picture, axis = 0)\n",
        "    enc = self.autoencoder.encoder(picture)\n",
        "    dec = self.autoencoder.decoder(enc)\n",
        "\n",
        "    return dec\n",
        "    "
      ],
      "execution_count": 4,
      "outputs": []
    },
    {
      "cell_type": "code",
      "metadata": {
        "id": "twvh3iyd0Bqe"
      },
      "source": [
        "(x_train, y_train), (x_test, y_test) = datasets.mnist.load_data()\n",
        "x_train = x_train.astype(\"float32\") / 255.0\n",
        "x_test = x_test.astype(\"float32\") / 255.0\n",
        "\n",
        "x_train = x_train[..., tf.newaxis]\n",
        "x_test = x_test[..., tf.newaxis]"
      ],
      "execution_count": 5,
      "outputs": []
    },
    {
      "cell_type": "code",
      "metadata": {
        "id": "x_tTUQo10SKu"
      },
      "source": [
        "noise_factor = 0.2\n",
        "x_train_noisy = x_train + noise_factor * tf.random.normal(shape=x_train.shape) \n",
        "x_test_noisy = x_test + noise_factor * tf.random.normal(shape=x_test.shape) \n",
        "\n",
        "x_train_noisy = tf.clip_by_value(x_train_noisy, clip_value_min=0., clip_value_max=1.)\n",
        "x_test_noisy = tf.clip_by_value(x_test_noisy, clip_value_min=0., clip_value_max=1.)"
      ],
      "execution_count": 6,
      "outputs": []
    },
    {
      "cell_type": "code",
      "metadata": {
        "id": "8ewoJxbr0jR6",
        "colab": {
          "base_uri": "https://localhost:8080/"
        },
        "outputId": "19a51e1c-0ae8-4323-87c2-df05514959d4"
      },
      "source": [
        "model = AEC(x_train,x_test,y_train,y_test,x_train_noisy,x_test_noisy)\n",
        "model.trainAutoEncoder()\n"
      ],
      "execution_count": 7,
      "outputs": [
        {
          "output_type": "stream",
          "text": [
            "Epoch 1/10\n",
            "1875/1875 [==============================] - 12s 6ms/step - loss: 0.0549 - val_loss: 0.0045\n",
            "Epoch 2/10\n",
            "1875/1875 [==============================] - 10s 5ms/step - loss: 0.0045 - val_loss: 0.0041\n",
            "Epoch 3/10\n",
            "1875/1875 [==============================] - 10s 5ms/step - loss: 0.0041 - val_loss: 0.0039\n",
            "Epoch 4/10\n",
            "1875/1875 [==============================] - 10s 5ms/step - loss: 0.0040 - val_loss: 0.0038\n",
            "Epoch 5/10\n",
            "1875/1875 [==============================] - 10s 5ms/step - loss: 0.0038 - val_loss: 0.0037\n",
            "Epoch 6/10\n",
            "1875/1875 [==============================] - 10s 5ms/step - loss: 0.0038 - val_loss: 0.0036\n",
            "Epoch 7/10\n",
            "1875/1875 [==============================] - 10s 5ms/step - loss: 0.0036 - val_loss: 0.0034\n",
            "Epoch 8/10\n",
            "1875/1875 [==============================] - 10s 5ms/step - loss: 0.0034 - val_loss: 0.0034\n",
            "Epoch 9/10\n",
            "1875/1875 [==============================] - 10s 5ms/step - loss: 0.0034 - val_loss: 0.0033\n",
            "Epoch 10/10\n",
            "1875/1875 [==============================] - 10s 5ms/step - loss: 0.0033 - val_loss: 0.0033\n",
            "Model: \"sequential_1\"\n",
            "_________________________________________________________________\n",
            "Layer (type)                 Output Shape              Param #   \n",
            "=================================================================\n",
            "conv2d_9 (Conv2D)            (None, 14, 14, 16)        160       \n",
            "_________________________________________________________________\n",
            "conv2d_10 (Conv2D)           (None, 7, 7, 8)           1160      \n",
            "=================================================================\n",
            "Total params: 1,320\n",
            "Trainable params: 1,320\n",
            "Non-trainable params: 0\n",
            "_________________________________________________________________\n",
            "None\n",
            "Model: \"sequential_2\"\n",
            "_________________________________________________________________\n",
            "Layer (type)                 Output Shape              Param #   \n",
            "=================================================================\n",
            "conv2d_transpose (Conv2DTran (None, 14, 14, 8)         584       \n",
            "_________________________________________________________________\n",
            "conv2d_transpose_1 (Conv2DTr (None, 28, 28, 16)        1168      \n",
            "_________________________________________________________________\n",
            "conv2d_11 (Conv2D)           (None, 28, 28, 1)         145       \n",
            "=================================================================\n",
            "Total params: 1,897\n",
            "Trainable params: 1,897\n",
            "Non-trainable params: 0\n",
            "_________________________________________________________________\n",
            "None\n"
          ],
          "name": "stdout"
        }
      ]
    },
    {
      "cell_type": "code",
      "metadata": {
        "colab": {
          "base_uri": "https://localhost:8080/",
          "height": 264
        },
        "id": "Lkt7mos5Cqo6",
        "outputId": "a4bf89e2-4bd0-4393-9dd4-d51d3b8d16a6"
      },
      "source": [
        "encoded_imgs = model.autoencoder.encoder(x_test).numpy()\n",
        "decoded_imgs = model.autoencoder.decoder(encoded_imgs).numpy()\n",
        "n = 10\n",
        "plt.figure(figsize=(20, 4))\n",
        "for i in range(n):\n",
        "\n",
        "    # display original + noise\n",
        "    ax = plt.subplot(2, n, i + 1)\n",
        "    plt.title(\"original + noise\")\n",
        "    plt.imshow(tf.squeeze(x_test_noisy[i]))\n",
        "    plt.gray()\n",
        "    ax.get_xaxis().set_visible(False)\n",
        "    ax.get_yaxis().set_visible(False)\n",
        "\n",
        "    # display reconstruction\n",
        "    bx = plt.subplot(2, n, i + n + 1)\n",
        "    plt.title(\"reconstructed\")\n",
        "    plt.imshow(tf.squeeze(decoded_imgs[i]))\n",
        "    plt.gray()\n",
        "    bx.get_xaxis().set_visible(False)\n",
        "    bx.get_yaxis().set_visible(False)\n",
        "plt.show()"
      ],
      "execution_count": 8,
      "outputs": [
        {
          "output_type": "display_data",
          "data": {
            "image/png": "[encoded data removed]",
            "text/plain": [
              "<Figure size 1440x288 with 20 Axes>"
            ]
          },
          "metadata": {
            "tags": [],
            "needs_background": "light"
          }
        }
      ]
    },
    {
      "cell_type": "code",
      "metadata": {
        "colab": {
          "base_uri": "https://localhost:8080/",
          "height": 282
        },
        "id": "l-_7ieOII2pK",
        "outputId": "63a5f9eb-cea6-4814-85fe-8d88bc36b4c9"
      },
      "source": [
        "dc = model.encodingDecoding(x_test[0])\n",
        "plt.imshow(tf.squeeze(dc))\n"
      ],
      "execution_count": 9,
      "outputs": [
        {
          "output_type": "execute_result",
          "data": {
            "text/plain": [
              "<matplotlib.image.AxesImage at 0x7f19036f3450>"
            ]
          },
          "metadata": {
            "tags": []
          },
          "execution_count": 9
        },
        {
          "output_type": "display_data",
          "data": {
            "image/png": "[encoded data removed]",
            "text/plain": [
              "<Figure size 432x288 with 1 Axes>"
            ]
          },
          "metadata": {
            "tags": [],
            "needs_background": "light"
          }
        }
      ]
    },
    {
      "cell_type": "code",
      "metadata": {
        "colab": {
          "base_uri": "https://localhost:8080/"
        },
        "id": "u_LvwuJYAZrc",
        "outputId": "36003af7-de2b-4a8c-8954-f763752c590d"
      },
      "source": [
        "model.trainClasificator()"
      ],
      "execution_count": 10,
      "outputs": [
        {
          "output_type": "stream",
          "text": [
            "Epoch 1/10\n",
            "938/938 - 15s - loss: 0.3853 - accuracy: 0.8818 - val_loss: 0.1497 - val_accuracy: 0.9660\n",
            "Epoch 2/10\n",
            "938/938 - 13s - loss: 0.1002 - accuracy: 0.9715 - val_loss: 0.0530 - val_accuracy: 0.9874\n",
            "Epoch 3/10\n",
            "938/938 - 13s - loss: 0.0694 - accuracy: 0.9803 - val_loss: 0.0620 - val_accuracy: 0.9830\n",
            "Epoch 4/10\n",
            "938/938 - 13s - loss: 0.0574 - accuracy: 0.9841 - val_loss: 0.0602 - val_accuracy: 0.9837\n",
            "Epoch 5/10\n",
            "938/938 - 13s - loss: 0.0515 - accuracy: 0.9857 - val_loss: 0.0327 - val_accuracy: 0.9902\n",
            "Epoch 6/10\n",
            "938/938 - 13s - loss: 0.0469 - accuracy: 0.9865 - val_loss: 0.0365 - val_accuracy: 0.9893\n",
            "Epoch 7/10\n",
            "938/938 - 13s - loss: 0.0413 - accuracy: 0.9880 - val_loss: 0.0361 - val_accuracy: 0.9887\n",
            "Epoch 8/10\n",
            "938/938 - 13s - loss: 0.0378 - accuracy: 0.9891 - val_loss: 0.0466 - val_accuracy: 0.9870\n",
            "Epoch 9/10\n",
            "938/938 - 13s - loss: 0.0340 - accuracy: 0.9901 - val_loss: 0.0230 - val_accuracy: 0.9935\n",
            "Epoch 10/10\n",
            "938/938 - 13s - loss: 0.0322 - accuracy: 0.9908 - val_loss: 0.0311 - val_accuracy: 0.9910\n"
          ],
          "name": "stdout"
        }
      ]
    },
    {
      "cell_type": "code",
      "metadata": {
        "colab": {
          "base_uri": "https://localhost:8080/"
        },
        "id": "VIYmbXJPALFA",
        "outputId": "e07b52da-c7b4-4bed-fb2e-d1626406b496"
      },
      "source": [
        "dc.shape\n",
        "a = tf.squeeze(dc)\n",
        "a = tf.expand_dims(input=a,axis = 2)\n",
        "\n",
        "pred = model.clasifierPredict(a)\n",
        "pred"
      ],
      "execution_count": 11,
      "outputs": [
        {
          "output_type": "execute_result",
          "data": {
            "text/plain": [
              "7"
            ]
          },
          "metadata": {
            "tags": []
          },
          "execution_count": 11
        }
      ]
    }
  ]
}